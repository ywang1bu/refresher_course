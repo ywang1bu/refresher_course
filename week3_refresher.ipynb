{
 "cells": [
  {
   "cell_type": "code",
   "execution_count": 30,
   "id": "7021336e",
   "metadata": {},
   "outputs": [
    {
     "name": "stdout",
     "output_type": "stream",
     "text": [
      "Mean:  3.125\n",
      "Median: 3.5\n",
      "Mode:  4\n",
      "4 [4] [4]\n"
     ]
    }
   ],
   "source": [
    "import statistics as st\n",
    "import numpy as my_np\n",
    "from collections import Counter\n",
    "\n",
    "data = [1, 2, 2, 3, 4, 4, 4, 5]\n",
    "\n",
    "print('Mean: ', st.mean(data))\n",
    "print('Median:', st.median(data))\n",
    "print('Mode: ', st.mode(data))\n",
    "\n",
    "def my_mean(data):\n",
    "    return sum(data)/len(data)\n",
    "\n",
    "def my_median(data):\n",
    "    return data[(len(x)//2)-1]\n",
    "\n",
    "def my_mode_one(data):\n",
    "    data_set = set(data)\n",
    "    max_dict = dict()\n",
    "    for i in data_set:\n",
    "        max_dict[i] = 0\n",
    "    for i in data_set:\n",
    "        for j in data:\n",
    "            if i == j:\n",
    "                max_dict[i] += 1\n",
    "    mode_list = []\n",
    "    maxV = max(max_dict.values())\n",
    "    for k, val in max_dict.items():\n",
    "        if val ==maxV:\n",
    "            mode_list.append(k)\n",
    "    return mode_list\n",
    "\n",
    "def my_mode_two(data):\n",
    "    \"\"\"return a list, might be more than one mode\"\"\"\n",
    "    counts = Counter(data)\n",
    "    max_count = max(counts.values())\n",
    "    return [x_i for x_i, count in counts.items() if count == max_count]\n",
    "\n",
    "print(st.mode(data), my_mode_one(data), my_mode_two(data))"
   ]
  },
  {
   "cell_type": "code",
   "execution_count": 31,
   "id": "27c98f0b",
   "metadata": {},
   "outputs": [
    {
     "name": "stdout",
     "output_type": "stream",
     "text": [
      "[4]\n"
     ]
    }
   ],
   "source": [
    "print(my_mode_two(data))"
   ]
  },
  {
   "cell_type": "code",
   "execution_count": 32,
   "id": "e667eb58",
   "metadata": {},
   "outputs": [
    {
     "name": "stdout",
     "output_type": "stream",
     "text": [
      "value for key \"a\" is:  10\n",
      "Updated dictionaryd: {'a': 10, 'b': 20, 'c': 15, 'd': 25}\n",
      "Dictionary after value updated is:  {'a': 33, 'b': 20, 'c': 15, 'd': 25}\n"
     ]
    }
   ],
   "source": [
    "my_dict = {'a':10, 'b':20, 'c':15}\n",
    "print('value for key \"a\" is: ', my_dict['a'])\n",
    "\n",
    "#adding a new key-value pari to the dictionary\n",
    "my_dict['d'] = 25\n",
    "print('Updated dictionaryd:', my_dict)\n",
    "#Updating a value in a dictionary\n",
    "my_dict['a'] = 33\n",
    "print('Dictionary after value updated is: ', my_dict)"
   ]
  },
  {
   "cell_type": "code",
   "execution_count": 33,
   "id": "1c395cb9",
   "metadata": {},
   "outputs": [
    {
     "name": "stdout",
     "output_type": "stream",
     "text": [
      "2.5277777777777777 1.8392857142857142 2.2469135802469133\n",
      "1.5898986690282428 1.5898986690282426\n"
     ]
    }
   ],
   "source": [
    "ds = [1, 2, 2, 3, 4, 4, 4, 5, 6]\n",
    "def my_var(data):\n",
    "    dm = my_mean(data)\n",
    "    length = len(data)\n",
    "    return sum([(x_i - dm)**2 for x_i in data])/(length-1)\n",
    "\n",
    "def my_std(data):\n",
    "    return my_np.sqrt(my_variance(data))\n",
    "\n",
    "print(st.variance(ds), my_var(data), my_np.var(ds))\n",
    "print(st.stdev(ds), my_std(ds))\n"
   ]
  },
  {
   "cell_type": "code",
   "execution_count": null,
   "id": "4254894d",
   "metadata": {},
   "outputs": [
    {
     "name": "stdout",
     "output_type": "stream",
     "text": [
      "2 4 4.0\n"
     ]
    },
    {
     "ename": "AttributeError",
     "evalue": "module 'statistics' has no attribute 'quantitles'",
     "output_type": "error",
     "traceback": [
      "\u001b[31m---------------------------------------------------------------------------\u001b[39m",
      "\u001b[31mAttributeError\u001b[39m                            Traceback (most recent call last)",
      "\u001b[36mCell\u001b[39m\u001b[36m \u001b[39m\u001b[32mIn[38]\u001b[39m\u001b[32m, line 6\u001b[39m\n\u001b[32m      3\u001b[39m     \u001b[38;5;28;01mreturn\u001b[39;00m \u001b[38;5;28msorted\u001b[39m(x)[x_idx]\n\u001b[32m      5\u001b[39m \u001b[38;5;28mprint\u001b[39m(my_quantile(ds, \u001b[32m0.3\u001b[39m), my_quantile(ds, \u001b[32m0.75\u001b[39m), my_np.quantile(ds, \u001b[32m0.75\u001b[39m))\n\u001b[32m----> \u001b[39m\u001b[32m6\u001b[39m \u001b[38;5;28mprint\u001b[39m(\u001b[33m'\u001b[39m\u001b[33mstatistics quantile is: \u001b[39m\u001b[33m'\u001b[39m, \u001b[43mst\u001b[49m\u001b[43m.\u001b[49m\u001b[43mquantitles\u001b[49m(ds, n=\u001b[32m4\u001b[39m))\n",
      "\u001b[31mAttributeError\u001b[39m: module 'statistics' has no attribute 'quantitles'"
     ]
    }
   ],
   "source": [
    "def my_quantile(x, p): #p is the float point number that is less than 1.0, x is the list\n",
    "    x_idx = int(p*len(x))\n",
    "    return sorted(x)[x_idx]\n",
    "\n",
    "print(my_quantile(ds, 0.3), my_quantile(ds, 0.75), my_np.quantile(ds, 0.75))\n"
   ]
  },
  {
   "cell_type": "code",
   "execution_count": null,
   "id": "816d06f9",
   "metadata": {},
   "outputs": [],
   "source": []
  }
 ],
 "metadata": {
  "kernelspec": {
   "display_name": "Python 3",
   "language": "python",
   "name": "python3"
  },
  "language_info": {
   "codemirror_mode": {
    "name": "ipython",
    "version": 3
   },
   "file_extension": ".py",
   "mimetype": "text/x-python",
   "name": "python",
   "nbconvert_exporter": "python",
   "pygments_lexer": "ipython3",
   "version": "3.12.1"
  }
 },
 "nbformat": 4,
 "nbformat_minor": 5
}
