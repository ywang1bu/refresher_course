{
 "cells": [
  {
   "cell_type": "code",
   "execution_count": 3,
   "id": "7021336e",
   "metadata": {},
   "outputs": [
    {
     "name": "stdout",
     "output_type": "stream",
     "text": [
      "Mean:  3.125\n",
      "Median: 3.5\n",
      "Mode:  4\n",
      "4 [4] [4]\n"
     ]
    }
   ],
   "source": [
    "import statistics as st\n",
    "import numpy as my_np\n",
    "from collections import Counter\n",
    "\n",
    "data = [1, 2, 2, 3, 4, 4, 4, 5]\n",
    "\n",
    "print('Mean: ', st.mean(data))\n",
    "print('Median:', st.median(data))\n",
    "print('Mode: ', st.mode(data))\n",
    "\n",
    "def my_mean(data):\n",
    "    return sum(data)/len(data)\n",
    "\n",
    "def my_median(data):\n",
    "    return data[(len(x)//2)-1]\n",
    "\n",
    "def my_mode_one(data):\n",
    "    data_set = set(data)\n",
    "    max_dict = dict()\n",
    "    for i in data_set:\n",
    "        max_dict[i] = 0\n",
    "    for i in data_set:\n",
    "        for j in data:\n",
    "            if i == j:\n",
    "                max_dict[i] += 1\n",
    "    mode_list = []\n",
    "    maxV = max(max_dict.values())\n",
    "    for k, val in max_dict.items():\n",
    "        if val ==maxV:\n",
    "            mode_list.append(k)\n",
    "    return mode_list\n",
    "\n",
    "def my_mode_two(data):\n",
    "    \"\"\"return a list, might be more than one mode\"\"\"\n",
    "    counts = Counter(data)\n",
    "    max_count = max(counts.values())\n",
    "    return [x_i for x_i, count in counts.items() if count == max_count]\n",
    "\n",
    "print(st.mode(data), my_mode_one(data), my_mode_two(data))"
   ]
  },
  {
   "cell_type": "code",
   "execution_count": 4,
   "id": "27c98f0b",
   "metadata": {},
   "outputs": [
    {
     "name": "stdout",
     "output_type": "stream",
     "text": [
      "[4]\n"
     ]
    }
   ],
   "source": [
    "print(my_mode_two(data))"
   ]
  },
  {
   "cell_type": "code",
   "execution_count": 5,
   "id": "e667eb58",
   "metadata": {},
   "outputs": [
    {
     "name": "stdout",
     "output_type": "stream",
     "text": [
      "value for key \"a\" is:  10\n",
      "Updated dictionaryd: {'a': 10, 'b': 20, 'c': 15, 'd': 25}\n",
      "Dictionary after value updated is:  {'a': 33, 'b': 20, 'c': 15, 'd': 25}\n"
     ]
    }
   ],
   "source": [
    "my_dict = {'a':10, 'b':20, 'c':15}\n",
    "print('value for key \"a\" is: ', my_dict['a'])\n",
    "\n",
    "#adding a new key-value pari to the dictionary\n",
    "my_dict['d'] = 25\n",
    "print('Updated dictionaryd:', my_dict)\n",
    "#Updating a value in a dictionary\n",
    "my_dict['a'] = 33\n",
    "print('Dictionary after value updated is: ', my_dict)"
   ]
  },
  {
   "cell_type": "code",
   "execution_count": 6,
   "id": "1c395cb9",
   "metadata": {},
   "outputs": [
    {
     "name": "stdout",
     "output_type": "stream",
     "text": [
      "2.5277777777777777 1.8392857142857142 2.2469135802469133\n",
      "1.5898986690282428 1.5898986690282426\n"
     ]
    }
   ],
   "source": [
    "ds = [1, 2, 2, 3, 4, 4, 4, 5, 6]\n",
    "def my_var(data):\n",
    "    dm = my_mean(data)\n",
    "    length = len(data)\n",
    "    return sum([(x_i - dm)**2 for x_i in data])/(length-1)\n",
    "\n",
    "def my_std(data):\n",
    "    return my_np.sqrt(my_var(data))\n",
    "\n",
    "print(st.variance(ds), my_var(data), my_np.var(ds))\n",
    "print(st.stdev(ds), my_std(ds))\n"
   ]
  },
  {
   "cell_type": "code",
   "execution_count": 7,
   "id": "4254894d",
   "metadata": {},
   "outputs": [
    {
     "name": "stdout",
     "output_type": "stream",
     "text": [
      "2 4 4.0\n"
     ]
    }
   ],
   "source": [
    "def my_quantile(x, p): #p is the float point number that is less than 1.0, x is the list\n",
    "    x_idx = int(p*len(x))\n",
    "    return sorted(x)[x_idx]\n",
    "\n",
    "print(my_quantile(ds, 0.3), my_quantile(ds, 0.75), my_np.quantile(ds, 0.75))\n"
   ]
  },
  {
   "cell_type": "code",
   "execution_count": 8,
   "id": "816d06f9",
   "metadata": {},
   "outputs": [
    {
     "name": "stdout",
     "output_type": "stream",
     "text": [
      "10\n",
      "10 None\n",
      "my cov: \n",
      " 9.166666666666666 \n",
      "\n",
      "np cov: \n",
      " [[9.16666667 9.16666667]\n",
      " [9.16666667 9.16666667]]\n",
      "The correlation is 1.000\n"
     ]
    }
   ],
   "source": [
    "#adding co-variance\n",
    "def my_cov(X, Y):\n",
    "    xv = my_np.array([(x-my_mean(X)) for x in X])\n",
    "    yv = my_np.array([(y-my_mean(Y)) for y in Y])\n",
    "    return my_np.dot(xv, yv)/(len(X)-1)\n",
    "\n",
    "X =[i for i in range(0, 10)] #, 1)]\n",
    "Y =[j for j in range(11, 21)] #, 1)]\n",
    "\n",
    "print(len(X), print(len(Y)))\n",
    "\n",
    "print('my cov: \\n', my_cov(X, Y), '\\n')\n",
    "print('np cov: \\n', my_np.cov(X, Y))\n",
    "\n",
    "r = my_cov(X, Y)/(my_std(X)*my_std(Y))\n",
    "print('The correlation is {:.3f}'.format(r))\n",
    "\n"
   ]
  },
  {
   "cell_type": "code",
   "execution_count": 9,
   "id": "22ffa543",
   "metadata": {},
   "outputs": [
    {
     "name": "stdout",
     "output_type": "stream",
     "text": [
      "Correlation matrix:\n",
      " [[1.         0.99437707]\n",
      " [0.99437707 1.        ]]\n"
     ]
    },
    {
     "data": {
      "image/png": "[encoded data removed]",
      "text/plain": [
       "<Figure size 1000x500 with 2 Axes>"
      ]
     },
     "metadata": {},
     "output_type": "display_data"
    }
   ],
   "source": [
    "import random\n",
    "import matplotlib.pyplot as plt\n",
    "\n",
    "x = list(range(1, 21))  # Generate a longer list for x\n",
    "y = [2 * xi + random.uniform(-2, 2) for xi in x]  # Generate correlated values for y\n",
    "correlation = my_np.corrcoef(x, y)\n",
    "print(\"Correlation matrix:\\n\", correlation)\n",
    "\n",
    "# Plot correlated data\n",
    "plt.figure(figsize=(10, 5))\n",
    "\n",
    "plt.subplot(1, 2, 1)\n",
    "plt.scatter(x, y, color='blue')\n",
    "plt.title(\"Correlated Data\")\n",
    "plt.xlabel(\"x\")\n",
    "plt.ylabel(\"y\")\n",
    "\n",
    "# Generate uncorrelated data\n",
    "y_uncorrelated = [random.randint(1, 10) for _ in x]\n",
    "\n",
    "plt.subplot(1, 2, 2)\n",
    "plt.scatter(x, y_uncorrelated, color='red')\n",
    "plt.title(\"Uncorrelated Data\")\n",
    "plt.xlabel(\"x\")\n",
    "plt.ylabel(\"y\")\n",
    "\n",
    "plt.tight_layout()\n",
    "plt.show()"
   ]
  }
 ],
 "metadata": {
  "kernelspec": {
   "display_name": "Python 3",
   "language": "python",
   "name": "python3"
  },
  "language_info": {
   "codemirror_mode": {
    "name": "ipython",
    "version": 3
   },
   "file_extension": ".py",
   "mimetype": "text/x-python",
   "name": "python",
   "nbconvert_exporter": "python",
   "pygments_lexer": "ipython3",
   "version": "3.12.1"
  }
 },
 "nbformat": 4,
 "nbformat_minor": 5
}
